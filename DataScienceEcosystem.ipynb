{
  "metadata": {
    "kernelspec": {
      "name": "python",
      "display_name": "Python (Pyodide)",
      "language": "python"
    },
    "language_info": {
      "codemirror_mode": {
        "name": "python",
        "version": 3
      },
      "file_extension": ".py",
      "mimetype": "text/x-python",
      "name": "python",
      "nbconvert_exporter": "python",
      "pygments_lexer": "ipython3",
      "version": "3.8"
    }
  },
  "nbformat_minor": 4,
  "nbformat": 4,
  "cells": [
    {
      "cell_type": "markdown",
      "source": "# Data Science Tools and Ecosystem",
      "metadata": {}
    },
    {
      "cell_type": "markdown",
      "source": "In this notebook, Data Science Tools and Ecosystem are summarized.",
      "metadata": {}
    },
    {
      "cell_type": "markdown",
      "source": "Some of the popular languages that Data Scientists use are:\n<ol> \n<li>Python</li>\n<li>R Programming</li>\n</ol>",
      "metadata": {}
    },
    {
      "cell_type": "markdown",
      "source": "Some of the commonly used libraries used by Data Scientists include:\n<ol>\n    <li>Numpy</li>\n    <li>Pandas</li>\n    <li>Matplotlib</li>\n    <li>Seaborn</li>\n</ol>",
      "metadata": {}
    },
    {
      "cell_type": "markdown",
      "source": "<table>\n    <tr>\n        <th>Data Science Tools</th>\n    </tr>\n    <tr>\n        <td>Jupyter Notebook</td>\n    </tr>\n    <tr>\n        <td>RStudio</td>\n    </tr>\n    <tr>\n        <td>IBM Watson Studio</td>\n    </tr>\n</table>",
      "metadata": {}
    },
    {
      "cell_type": "markdown",
      "source": "### Below are a few examples of evaluating arithmetic expressions in Python",
      "metadata": {}
    },
    {
      "cell_type": "code",
      "source": "# This a simple arithmetic expression to mutiply then add integers.\n(3*4)+5",
      "metadata": {
        "trusted": true
      },
      "outputs": [
        {
          "execution_count": 1,
          "output_type": "execute_result",
          "data": {
            "text/plain": "17"
          },
          "metadata": {}
        }
      ],
      "execution_count": 1
    },
    {
      "cell_type": "code",
      "source": "# This will convert 200 minutes to hours by diving by 60\n200/60",
      "metadata": {
        "trusted": true
      },
      "outputs": [
        {
          "execution_count": 2,
          "output_type": "execute_result",
          "data": {
            "text/plain": "3.3333333333333335"
          },
          "metadata": {}
        }
      ],
      "execution_count": 2
    },
    {
      "cell_type": "markdown",
      "source": "<b><title>Objectives</title></b>\n<ul>\n    <li>Foundations of Data Science</li>\n    <li>Exploring Different tools and languages for Data Science</li>\n    <li>Study of Python and R as languages for Data Science</li>\n    <li>Exploring Github capabilities</li>\n    <li>Understanding IBM Watson Studio, its uses and significance</li>\n</ul>",
      "metadata": {}
    },
    {
      "cell_type": "markdown",
      "source": "## Author\nRajesh Prasad",
      "metadata": {}
    },
    {
      "cell_type": "code",
      "source": "",
      "metadata": {
        "trusted": true
      },
      "outputs": [],
      "execution_count": null
    }
  ]
}